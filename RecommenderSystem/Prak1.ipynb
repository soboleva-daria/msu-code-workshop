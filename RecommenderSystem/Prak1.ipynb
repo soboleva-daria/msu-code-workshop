{
 "cells": [
  {
   "cell_type": "markdown",
   "metadata": {},
   "source": [
    "## Задание №1. Рекомендательная система фильмов на данных MovieLens \n",
    "## Выполнила: Соболева Дарья\n",
    "## Студентка 317 группы ВМК МГУ\n",
    "## Версия Python 3.5"
   ]
  },
  {
   "cell_type": "markdown",
   "metadata": {},
   "source": [
    "## Введение\n",
    "\n",
    "Одним из бурно развивающихся направлений совершенствования прикладных информационных технологий является развертывание рекомендательных систем -- инструментов автоматической генерации предложений по услугам на основе изучения персональных потребностей клиентов.\n",
    "\n",
    "<b>Объект исследования:</b> рекомендательная система, построенная на данных MovieLens.\n",
    "    \n",
    "<b>Предмет исследования:</b> алгоритмы выбора релевантных рекомендаций.\n",
    "    \n",
    "<b>Задачи</b>: предсказание оценки пользователя неизвестному фильму.\n",
    "    Нахождение небольшого числа фильмов, которые скорее всего заинтересуют конкретного пользователя, используя информацию о предыдущей его аквтиности и характеристиках фильмов.\n",
    "    \n",
    "В задачи также входит выявление других данных, которые помогли бы улучшить механизм рекомендаций.\n",
    "\n",
    "<b>Метрика качества</b>: Mean Squared Error (MSE)\n",
    "\n",
    "<b>Цель:</b> исследование алгоритмов для рекомендательных систем, позволяющих выбирать рекомендации в условиях большого числа пользователей при неполной или отсутствующей информации об их предпочтениях.\n",
    "\n",
    "В данной работе будут рассмотрены два возможных подхода:\n",
    "* <b>Content-based</b> \n",
    "* <b>Collaborative filtering</b>\n",
    "\n",
    "В задаче коллаборативной фильтрации будут рассмотрены <b>neighborhood</b> и <b>latent factor</b> подходы."
   ]
  },
  {
   "cell_type": "code",
   "execution_count": 5,
   "metadata": {
    "collapsed": false
   },
   "outputs": [],
   "source": [
    "import zipfile\n",
    "import pandas as pd\n",
    "import numpy as np\n",
    "from IPython.display import display\n",
    "import time\n",
    "from collections import OrderedDict\n",
    "\n",
    "from content_based import build_categorical, RidgeRegression\n",
    "from latent_factor import matrix_factorization\n",
    "from cross_validation import train_test_split, cross_val_score, mean_squared_error"
   ]
  },
  {
   "cell_type": "code",
   "execution_count": 2,
   "metadata": {
    "collapsed": false
   },
   "outputs": [],
   "source": [
    "with zipfile.ZipFile('ml-1m.zip', 'r') as myzip:\n",
    "\n",
    "    with myzip.open('ml-1m/movies.dat', 'r') as r:\n",
    "        movies = pd.read_csv(r, header=None, encoding='latin_1', sep=b'\\s*\\::', engine='python')\n",
    "        movies.columns = ['MovieID', 'Title', 'Genres']\n",
    "        movies.Title = movies.Title.str.decode(\"latin_1\")\n",
    "        movies.Genres = movies.Genres.str.decode(\"latin_1\")\n",
    "        \n",
    "    with myzip.open('ml-1m/ratings.dat', 'r') as r:\n",
    "        ratings = pd.read_csv(r, header=None, encoding='latin_1', sep=b'\\s*\\::', engine='python')\n",
    "        ratings.columns = ['UserID', 'MovieID', 'Rating', 'Timestamp']\n",
    "        ratings.Rating /= 5.0\n",
    "        \n",
    "    with myzip.open('ml-1m/users.dat', 'r') as r:\n",
    "        users = pd.read_csv(r, header=None, encoding='latin_1', sep=b'\\s*\\::', engine='python')\n",
    "        users.columns = ['UserID', 'Gender', 'Age', 'Occupation', 'Zip-code']"
   ]
  },
  {
   "cell_type": "code",
   "execution_count": 7,
   "metadata": {
    "collapsed": false
   },
   "outputs": [
    {
     "data": {
      "text/html": [
       "<div>\n",
       "<table border=\"1\" class=\"dataframe\">\n",
       "  <thead>\n",
       "    <tr style=\"text-align: right;\">\n",
       "      <th></th>\n",
       "      <th>UserID</th>\n",
       "      <th>MovieID</th>\n",
       "      <th>Rating</th>\n",
       "      <th>Timestamp</th>\n",
       "    </tr>\n",
       "  </thead>\n",
       "  <tbody>\n",
       "    <tr>\n",
       "      <th>0</th>\n",
       "      <td>1</td>\n",
       "      <td>1193</td>\n",
       "      <td>1.0</td>\n",
       "      <td>978300760</td>\n",
       "    </tr>\n",
       "    <tr>\n",
       "      <th>1</th>\n",
       "      <td>1</td>\n",
       "      <td>661</td>\n",
       "      <td>0.6</td>\n",
       "      <td>978302109</td>\n",
       "    </tr>\n",
       "    <tr>\n",
       "      <th>2</th>\n",
       "      <td>1</td>\n",
       "      <td>914</td>\n",
       "      <td>0.6</td>\n",
       "      <td>978301968</td>\n",
       "    </tr>\n",
       "    <tr>\n",
       "      <th>3</th>\n",
       "      <td>1</td>\n",
       "      <td>3408</td>\n",
       "      <td>0.8</td>\n",
       "      <td>978300275</td>\n",
       "    </tr>\n",
       "    <tr>\n",
       "      <th>4</th>\n",
       "      <td>1</td>\n",
       "      <td>2355</td>\n",
       "      <td>1.0</td>\n",
       "      <td>978824291</td>\n",
       "    </tr>\n",
       "  </tbody>\n",
       "</table>\n",
       "</div>"
      ],
      "text/plain": [
       "   UserID  MovieID  Rating  Timestamp\n",
       "0       1     1193     1.0  978300760\n",
       "1       1      661     0.6  978302109\n",
       "2       1      914     0.6  978301968\n",
       "3       1     3408     0.8  978300275\n",
       "4       1     2355     1.0  978824291"
      ]
     },
     "execution_count": 7,
     "metadata": {},
     "output_type": "execute_result"
    }
   ],
   "source": [
    "ratings.head()"
   ]
  },
  {
   "cell_type": "markdown",
   "metadata": {},
   "source": [
    "Для проведения экспериментов предлагается выделить <b>80%</b> оценок пользователей под обучающую выборку, а оставшиеся <b>20%</b> \n",
    "использовать в качестве контрольной."
   ]
  },
  {
   "cell_type": "code",
   "execution_count": 3,
   "metadata": {
    "collapsed": false
   },
   "outputs": [],
   "source": [
    "data_train, data_test = train_test_split(ratings)"
   ]
  },
  {
   "cell_type": "markdown",
   "metadata": {},
   "source": [
    "Рассматриваемые подходы обладают структурными параметрами, значения которых необходимо подбирать кросс-валидацией.\n",
    "Для этого воспользуемся техникой <b>hold-out</b>, выделив из обучающей выборки <b>20%</b> оценок пользователей под валидацию."
   ]
  },
  {
   "cell_type": "code",
   "execution_count": 4,
   "metadata": {
    "collapsed": false
   },
   "outputs": [],
   "source": [
    "X_train, X_valid = train_test_split(data_train)"
   ]
  },
  {
   "cell_type": "markdown",
   "metadata": {},
   "source": [
    "----"
   ]
  },
  {
   "cell_type": "markdown",
   "metadata": {},
   "source": [
    "## Эксперименты"
   ]
  },
  {
   "cell_type": "markdown",
   "metadata": {},
   "source": [
    "### Content-based"
   ]
  },
  {
   "cell_type": "markdown",
   "metadata": {},
   "source": [
    "Данный подход известен в литературе также под названием когнитивная фильтрация -- метод, основанный на сравнении характеристик\n",
    "товаров и профиля каждого пользователя.\n",
    "\n",
    "Как нетрудно заметить, задача сводится к генерации признаков, описывающих профили пользователей и товаров.\n",
    "Как будет показано ниже, состав признаков имеет прямое влияние на качество модели.\n",
    "\n",
    "<b>Набор базовых признаков:</b>\n",
    "    1. Категориальные признаки: \n",
    "        * Возраст пользователя\n",
    "        * Профессия пользователя \n",
    "        * Пол пользователя\n",
    "    2. Наборы булевых признаков: \n",
    "        * Жанры фильмов\n",
    "        * Нормированные средние оценки пользователя в пространстве жанров (1)\n",
    "    3. Вещественные признаки:\n",
    "        * Средний рейтинг пользователя\n",
    "        * Средний рейтинг фильма\n",
    "        * Константа 1\n",
    "  \n",
    "(1):\n",
    "    \n",
    "$(u_g * m_g) / n_g$,\n",
    "\n",
    "$u_g$ -- вектор средних оценок пользователя в пространстве жанров\n",
    "\n",
    "$m_g$ -- булевый вектор для фильма в пространстве жанров\n",
    "\n",
    "$n_g$ -- количество жанров, указанных для фильма"
   ]
  },
  {
   "cell_type": "markdown",
   "metadata": {},
   "source": [
    "Полученные признаки обозначим $\\{g_{ui}^n\\}_{n=1..N}$\n",
    "\n",
    "Будем искать рейтинг как линейную комбинацию числовых признаков: \n",
    "$\\hat{r}_{ui} = \\sum_{n=1}^{N} g_{ui}^n \\theta_n$.\n",
    "А значит, категориальные признаки лучше закодировать набором булевых векторов по одному на каждое значение признака.\n",
    "\n",
    "Для настройки весов признаков воспользуемся <b>Ridge-регрессией</b>: $\\underset{w}{min\\,} {{|| X w - y||_2}^2 + \\alpha {||w||_2}^2}$"
   ]
  },
  {
   "cell_type": "markdown",
   "metadata": {},
   "source": [
    "Оценим время работы и качество рекомендаций на базовом наборе признаков."
   ]
  },
  {
   "cell_type": "code",
   "execution_count": 28,
   "metadata": {
    "collapsed": false
   },
   "outputs": [
    {
     "data": {
      "text/html": [
       "<div>\n",
       "<table border=\"1\" class=\"dataframe\">\n",
       "  <thead>\n",
       "    <tr style=\"text-align: right;\">\n",
       "      <th></th>\n",
       "      <th>MSE(Test)</th>\n",
       "      <th>Time(sec)</th>\n",
       "    </tr>\n",
       "  </thead>\n",
       "  <tbody>\n",
       "    <tr>\n",
       "      <th>Content_based(BaseFeatures)</th>\n",
       "      <td>1.154958</td>\n",
       "      <td>112.302147</td>\n",
       "    </tr>\n",
       "  </tbody>\n",
       "</table>\n",
       "</div>"
      ],
      "text/plain": [
       "                             MSE(Test)   Time(sec)\n",
       "Content_based(BaseFeatures)   1.154958  112.302147"
      ]
     },
     "metadata": {},
     "output_type": "display_data"
    }
   ],
   "source": [
    "time_start = time.clock()\n",
    "data_train_cat, data_test_cat = build_categorical(data_train, data_test, movies, users)\n",
    "target = 'Rating'\n",
    "predictors = [f for f in data_train_cat.columns if f not in ['UserID', target]]\n",
    "\n",
    "alpha = 0.2\n",
    "y_pred = RidgeRegression(alpha).fit(data_train_cat[predictors], data_train_cat[target]).predict(data_test_cat[predictors])\n",
    "\n",
    "display(pd.DataFrame({'Content_based(BaseFeatures)':\n",
    "                               {'MSE(Test)': mean_squared_error(data_test_cat[target], y_pred),\n",
    "                                'Time(sec)': time.clock() - time_start}\n",
    "                      }).T)"
   ]
  },
  {
   "cell_type": "markdown",
   "metadata": {},
   "source": [
    "Добавим в модель <b>3 дополнительных признака</b>:\n",
    "    * Средний рейтинг фильмов, выпущенных до и после 1950-х\n",
    "    * Число токенов в заголовке\n",
    "    * Доля не стоп-слов в заголовке"
   ]
  },
  {
   "cell_type": "code",
   "execution_count": 13,
   "metadata": {
    "collapsed": false
   },
   "outputs": [
    {
     "data": {
      "text/html": [
       "<div>\n",
       "<table border=\"1\" class=\"dataframe\">\n",
       "  <thead>\n",
       "    <tr style=\"text-align: right;\">\n",
       "      <th></th>\n",
       "      <th>MSE(Test)</th>\n",
       "      <th>Time(sec)</th>\n",
       "    </tr>\n",
       "  </thead>\n",
       "  <tbody>\n",
       "    <tr>\n",
       "      <th>Content_based(AdditionalFeatures)</th>\n",
       "      <td>1.137695</td>\n",
       "      <td>116.049525</td>\n",
       "    </tr>\n",
       "  </tbody>\n",
       "</table>\n",
       "</div>"
      ],
      "text/plain": [
       "                                   MSE(Test)   Time(sec)\n",
       "Content_based(AdditionalFeatures)   1.137695  116.049525"
      ]
     },
     "metadata": {},
     "output_type": "display_data"
    }
   ],
   "source": [
    "time_start = time.clock()\n",
    "data_train_cat, data_test_cat = build_categorical(data_train, data_test, movies, users, only_base_features=0)\n",
    "target = 'Rating'\n",
    "predictors = [f for f in data_train_cat.columns if f not in ['UserID', target]]\n",
    "\n",
    "alpha = 0.2\n",
    "y_pred = RidgeRegression(alpha).fit(data_train_cat[predictors], data_train_cat[target]).predict(data_test_cat[predictors])\n",
    "display(pd.DataFrame({'Content_based(AdditionalFeatures)':\n",
    "                               {'MSE(Test)': mean_squared_error(data_test_cat[target], y_pred),\n",
    "                                'Time(sec)': time.clock() - time_start}\n",
    "                      }).T)"
   ]
  },
  {
   "cell_type": "markdown",
   "metadata": {},
   "source": [
    "Качество улучшилось.\n",
    "Подберем теперь коэффициент регуляризации при помощи кросс-валидации в модели <b>Ridge-регрессии</b>."
   ]
  },
  {
   "cell_type": "code",
   "execution_count": 10,
   "metadata": {
    "collapsed": false
   },
   "outputs": [
    {
     "name": "stdout",
     "output_type": "stream",
     "text": [
      "{'error': 0.89793568592919681, 'best_param': 1000.0}\n"
     ]
    }
   ],
   "source": [
    "X_train_cat, X_valid_cat = build_categorical(X_train, X_valid, movies, users, only_base_features=0)\n",
    "alpha = [1e-2, 1e-1, 1e0, 1e1, 1e2, 1e3, 1e4]\n",
    "best_score =  cross_val_score(\n",
    "                   RidgeRegression,\n",
    "                   alpha,\n",
    "                   X_train_cat[predictors],\n",
    "                   X_train_cat[target],\n",
    "                   X_valid_cat[predictors],\n",
    "                   X_valid_cat[target])\n",
    "print (best_score)"
   ]
  },
  {
   "cell_type": "markdown",
   "metadata": {},
   "source": [
    "Зафиксируем $\\alpha=1000.0$. Оценим качество на тестовой выборке."
   ]
  },
  {
   "cell_type": "code",
   "execution_count": 14,
   "metadata": {
    "collapsed": false
   },
   "outputs": [
    {
     "data": {
      "text/html": [
       "<div>\n",
       "<table border=\"1\" class=\"dataframe\">\n",
       "  <thead>\n",
       "    <tr style=\"text-align: right;\">\n",
       "      <th></th>\n",
       "      <th>MSE(Test)</th>\n",
       "      <th>Time(sec)</th>\n",
       "    </tr>\n",
       "  </thead>\n",
       "  <tbody>\n",
       "    <tr>\n",
       "      <th>Content_based</th>\n",
       "      <td>0.969475</td>\n",
       "      <td>117.940782</td>\n",
       "    </tr>\n",
       "  </tbody>\n",
       "</table>\n",
       "</div>"
      ],
      "text/plain": [
       "               MSE(Test)   Time(sec)\n",
       "Content_based   0.969475  117.940782"
      ]
     },
     "metadata": {},
     "output_type": "display_data"
    }
   ],
   "source": [
    "res = {}\n",
    "time_start = time.clock()\n",
    "data_train_cat, data_test_cat = build_categorical(data_train, data_test, movies, users, only_base_features=0)\n",
    "alpha = 1000.0\n",
    "y_pred = RidgeRegression(alpha).fit(data_train_cat[predictors], data_train_cat[target]).predict(data_test_cat[predictors])\n",
    "res['Content_based'] =  {'MSE(Test)': mean_squared_error(data_test_cat[target], y_pred),\n",
    "                         'Time(sec)': time.clock() - time_start}\n",
    "display(pd.DataFrame(res).T)"
   ]
  },
  {
   "cell_type": "markdown",
   "metadata": {},
   "source": [
    "------"
   ]
  },
  {
   "cell_type": "markdown",
   "metadata": {},
   "source": [
    "## Neighborhood"
   ]
  },
  {
   "cell_type": "markdown",
   "metadata": {},
   "source": [
    "Альтерантивой <b>content-based</b> подходу может служить <b>Collaborative filtering</b> -- метод, рекомендации, при\n",
    "котором анализируется реакция пользователя на товары. Имя матрицу <b>user-item</b> из оценок пользователей можно определить меру похожести товаров\n",
    "\n",
    "$$\\textbf{AdjustedCosineSimilarity(i, j)} = \\frac{\\sum_{u \\in U}(r_{ui} - \\hat{r_u})(r_{uj} - \\hat{r_u})}{\\sqrt{\\sum_{u \\in U}(r_{ui} - \\hat{r_u})^2} \\sqrt{\\sum_{u \\in U}(r_{uj} - \\hat{r_u})^2}}$$\n",
    "\n",
    "$U$ -- множество пользователей, которые оценили фильмы $i, j$\n",
    "\n",
    "$\\hat{r_{u}}$ -- средний рейтинг пользователя $u$\n",
    "\n",
    "<b>Рейтинги неизвестных фильмов</b> считаются по формуле:\n",
    "$$\\hat{r_{ui}} = \\frac{\\sum_{j : r_{uj} \\neq 0} sim(i, j) r_{uj}} {\\sum_{j : r_{uj} \\neq 0} sim(i, j)}$$\n",
    "\n",
    "Для обеспечения устойчивости вычислений положим отрицательные значения <b>AdjustedCosineSimilarity(i, j)</b> равными 0."
   ]
  },
  {
   "cell_type": "markdown",
   "metadata": {},
   "source": [
    "В данной части исследования нам потребуется фреймворк <b>Apache Hadoop</b>, обеспечивающий высокую производительность, реализуя\n",
    "потоковую обработку больших объемов данных с использованием метода параллельных вычислений <b>Map-Reduce</b>.\n",
    "\n",
    "Все исследования проводились на кластере <b>Amazon</b>. Все реализующие данный подход модули собраны в приложении к \n",
    "ноутбуку с отчетом.Здесь продемонстрируем итоговые результаты.\n",
    "\n",
    "<b>distance_matrix.npy</b> -- хранит расстояния между товарами"
   ]
  },
  {
   "cell_type": "code",
   "execution_count": 1,
   "metadata": {
    "collapsed": false
   },
   "outputs": [
    {
     "name": "stdout",
     "output_type": "stream",
     "text": [
      "MSE(Train):1.3273260813429637, N:1\n",
      "MSE(Test):1.7566472874917882, N:1\n",
      "--------------------------------------------------------------------\n",
      "MSE(Train):2.5190571576844105, N:5\n",
      "MSE(Test):1.9604546285273967, N:5\n",
      "--------------------------------------------------------------------\n",
      "MSE(Train):3.937038550537882, N:10\n",
      "MSE(Test):2.220438525865518, N:10\n",
      "--------------------------------------------------------------------\n",
      "MSE(Train):5.448347744554113, N:20\n",
      "MSE(Test):2.5875742772325157, N:20\n",
      "--------------------------------------------------------------------\n",
      "MSE(Train):7.905597938221867, N:50\n",
      "MSE(Test):3.3618900375893426, N:50\n",
      "--------------------------------------------------------------------\n",
      "MSE(Train):11.93320154733641, N:100\n",
      "MSE(Test):4.79316476579518, N:100\n",
      "--------------------------------------------------------------------\n",
      "MSE(Train):13.739968762456785, N:1000\n",
      "MSE(Test):14.920316521034719, N:1000\n",
      "--------------------------------------------------------------------\n",
      "MSE(Train):13.74955813667804, N:5000\n",
      "MSE(Test):14.954472934191484, N:5000\n",
      "--------------------------------------------------------------------\n"
     ]
    }
   ],
   "source": [
    "!python3 neighborhood.py data_train.csv  data_test.csv distance_matrix.npy"
   ]
  },
  {
   "cell_type": "code",
   "execution_count": 6,
   "metadata": {
    "collapsed": false
   },
   "outputs": [
    {
     "name": "stdout",
     "output_type": "stream",
     "text": [
      "Neighborhood\n"
     ]
    },
    {
     "data": {
      "text/html": [
       "<div>\n",
       "<table border=\"1\" class=\"dataframe\">\n",
       "  <thead>\n",
       "    <tr style=\"text-align: right;\">\n",
       "      <th></th>\n",
       "      <th>N</th>\n",
       "      <th>MSE(Test</th>\n",
       "      <th>MSE(Train)</th>\n",
       "    </tr>\n",
       "  </thead>\n",
       "  <tbody>\n",
       "    <tr>\n",
       "      <th>0</th>\n",
       "      <td>1</td>\n",
       "      <td>1.75664</td>\n",
       "      <td>1.3273</td>\n",
       "    </tr>\n",
       "    <tr>\n",
       "      <th>1</th>\n",
       "      <td>5</td>\n",
       "      <td>1.96040</td>\n",
       "      <td>2.5190</td>\n",
       "    </tr>\n",
       "    <tr>\n",
       "      <th>2</th>\n",
       "      <td>10</td>\n",
       "      <td>2.22040</td>\n",
       "      <td>3.9370</td>\n",
       "    </tr>\n",
       "    <tr>\n",
       "      <th>3</th>\n",
       "      <td>20</td>\n",
       "      <td>2.58750</td>\n",
       "      <td>5.4483</td>\n",
       "    </tr>\n",
       "    <tr>\n",
       "      <th>4</th>\n",
       "      <td>50</td>\n",
       "      <td>3.36180</td>\n",
       "      <td>7.9055</td>\n",
       "    </tr>\n",
       "    <tr>\n",
       "      <th>5</th>\n",
       "      <td>100</td>\n",
       "      <td>4.79310</td>\n",
       "      <td>11.9332</td>\n",
       "    </tr>\n",
       "    <tr>\n",
       "      <th>6</th>\n",
       "      <td>1000</td>\n",
       "      <td>14.92030</td>\n",
       "      <td>13.7399</td>\n",
       "    </tr>\n",
       "    <tr>\n",
       "      <th>7</th>\n",
       "      <td>5000</td>\n",
       "      <td>14.92030</td>\n",
       "      <td>13.7399</td>\n",
       "    </tr>\n",
       "  </tbody>\n",
       "</table>\n",
       "</div>"
      ],
      "text/plain": [
       "      N  MSE(Test  MSE(Train)\n",
       "0     1   1.75664      1.3273\n",
       "1     5   1.96040      2.5190\n",
       "2    10   2.22040      3.9370\n",
       "3    20   2.58750      5.4483\n",
       "4    50   3.36180      7.9055\n",
       "5   100   4.79310     11.9332\n",
       "6  1000  14.92030     13.7399\n",
       "7  5000  14.92030     13.7399"
      ]
     },
     "metadata": {},
     "output_type": "display_data"
    }
   ],
   "source": [
    "print ('Neighborhood')\n",
    "df = pd.read_csv('neghborhood.csv', index_col=0)\n",
    "display(pd.DataFrame(df))"
   ]
  },
  {
   "cell_type": "markdown",
   "metadata": {},
   "source": [
    "Видно, что с ростом длины списка похожих товаров качество ухудшается как на обучении, так и на контроле.\n",
    "А значит достаточно хранить небольшое количество самых похожих товаров для осуществления качественного прогноза.\n",
    "\n",
    "Время работы (<b>~2000</b> секунд) для разных <b>N</b> примерно одинаково, так как основная вычислительная сложность \n",
    "приходится на вычисление матрицы похожести товаров. Далее, пользуемся эффективными матричными вычислениями."
   ]
  },
  {
   "cell_type": "markdown",
   "metadata": {},
   "source": [
    "---"
   ]
  },
  {
   "cell_type": "markdown",
   "metadata": {},
   "source": [
    "Также приведем формулы для еще одного подхода в коллаборативной фильтрации."
   ]
  },
  {
   "cell_type": "markdown",
   "metadata": {},
   "source": [
    "Симметричным подходом в коллаборативной фильтрации является <b>user-based</b>.\n",
    "\n",
    "$$\\textbf{AdjustedCosineSimilarity(u, v)} = \\frac{\\sum_{i \\in I}(r_{ui} - \\hat{r_i})(r_{vi} - \\hat{r_i})}{\\sqrt{\\sum_{i \\in I}(r_{ui} - \\hat{r_i})^2} \\sqrt{\\sum_{i \\in I}(r_{vi} - \\hat{r_i})^2}}$$\n",
    "\n",
    "$I$ -- множество фильмов, которые были оценены пользователями $u, v$\n",
    "\n",
    "$r_{i}$ -- средний рейтинг фильма $i$"
   ]
  },
  {
   "cell_type": "markdown",
   "metadata": {},
   "source": [
    "-----"
   ]
  },
  {
   "cell_type": "markdown",
   "metadata": {},
   "source": [
    "## Latent factor"
   ]
  },
  {
   "cell_type": "markdown",
   "metadata": {},
   "source": [
    "В данном подходе предлагается найти пространство признаков, в котором мы сможем представить фильмы и пользователей, а также оценить меру их близости (рейтинг фильма, поставленный пользователем).\n",
    "\n",
    "<b>Введем обозначения:</b>\n",
    "    \n",
    "$K$ -- число латентных признаков\n",
    "\n",
    "$U$ -- пространство пользователей\n",
    "\n",
    "$I$ -- пространство фильмов\n",
    "\n",
    "$p_u$ и $q_i$ -- представления пользователя $u$ и фильма $i$ соответственно в пространстве латентных признаков $R^K$\n",
    "\n",
    "$P = (p_u)_{u \\in  U}\\in R^{|U| * K}$\n",
    "\n",
    "$Q = (q_i)_{i \\in  I} \\in R^{|I| * K}$\n",
    "\n",
    "$Q[u] \\in R^{n_u * K}$ -- подматрица матрицы $Q$ только для товаров, оцененных пользователем $u$.\n",
    "\n",
    "$P[i] \\in R^{n_i * K}$ -- подматрица матрицы $P$ только для пользователей, оценивших товар $i$.\n",
    "\n",
    "В качестве меры близости рассмотрим скалярное произведение:\n",
    "\n",
    "$\\hat{r}_{ui} = p^T_u q_i$.\n",
    "\n",
    "Для настройки модели будем минимизировать следующий функционал:\n",
    "$\\sum_{(u, r, r_{ui})} (r_{ui} - p^T_{u} q_i)^2 + \\lambda_p p^T_{u} p_{u} + \\lambda_q q^T_{i} q_{i}$   \n",
    "\n",
    "<b>Шаг перенастройки $p_u$ при фиксированной матрице $Q$:</b>\n",
    "    \n",
    "$A_u = Q[u]^T Q[u]$\n",
    "\n",
    "$d_u = Q[u]^T r_u$\n",
    "\n",
    "$p_u = (\\lambda_p n_u I + A_u)^{-1} d_u$\n",
    "\n",
    "<b>Шаг перенастройки $q_i$ при фиксированной матрице $P$:</b>\n",
    "    \n",
    "$A_i = P[i]^T P[i]$\n",
    "\n",
    "$d_u = P[i]^T r_i$\n",
    "\n",
    "$q_i = (\\lambda_q n_i I + A_i)^{-1} d_i$"
   ]
  },
  {
   "cell_type": "markdown",
   "metadata": {},
   "source": [
    "Зафиксируем значения структурных параметров модели:\n",
    "    \n",
    "$\\lambda_p = 0.2$\n",
    "\n",
    "$\\lambda_q = 0.001$\n",
    "\n",
    "Начальная инициализация матриц $Q, P$ -- рандомные значения  на отрезке [0.0, 0.1).\n",
    "                                                                         \n",
    "Подберем размерность пространства латентных признаков $K$ при помощи процедуры кросс-валидации."
   ]
  },
  {
   "cell_type": "code",
   "execution_count": 31,
   "metadata": {
    "collapsed": false
   },
   "outputs": [
    {
     "name": "stdout",
     "output_type": "stream",
     "text": [
      "Latent factor\n"
     ]
    },
    {
     "data": {
      "text/html": [
       "<div>\n",
       "<table border=\"1\" class=\"dataframe\">\n",
       "  <thead>\n",
       "    <tr style=\"text-align: right;\">\n",
       "      <th></th>\n",
       "      <th>K</th>\n",
       "      <th>MSE(Test)</th>\n",
       "      <th>MSE(Train)</th>\n",
       "      <th>Time(sec)</th>\n",
       "    </tr>\n",
       "  </thead>\n",
       "  <tbody>\n",
       "    <tr>\n",
       "      <th>0</th>\n",
       "      <td>5</td>\n",
       "      <td>0.812049</td>\n",
       "      <td>0.658603</td>\n",
       "      <td>72.117384</td>\n",
       "    </tr>\n",
       "    <tr>\n",
       "      <th>1</th>\n",
       "      <td>10</td>\n",
       "      <td>0.805715</td>\n",
       "      <td>0.596706</td>\n",
       "      <td>756.382538</td>\n",
       "    </tr>\n",
       "    <tr>\n",
       "      <th>2</th>\n",
       "      <td>30</td>\n",
       "      <td>0.817185</td>\n",
       "      <td>0.491476</td>\n",
       "      <td>1358.085426</td>\n",
       "    </tr>\n",
       "    <tr>\n",
       "      <th>3</th>\n",
       "      <td>50</td>\n",
       "      <td>0.821310</td>\n",
       "      <td>0.444733</td>\n",
       "      <td>1428.335245</td>\n",
       "    </tr>\n",
       "    <tr>\n",
       "      <th>4</th>\n",
       "      <td>80</td>\n",
       "      <td>0.821851</td>\n",
       "      <td>0.409215</td>\n",
       "      <td>1526.109554</td>\n",
       "    </tr>\n",
       "    <tr>\n",
       "      <th>5</th>\n",
       "      <td>100</td>\n",
       "      <td>0.822368</td>\n",
       "      <td>0.396922</td>\n",
       "      <td>1634.068032</td>\n",
       "    </tr>\n",
       "  </tbody>\n",
       "</table>\n",
       "</div>"
      ],
      "text/plain": [
       "     K  MSE(Test)  MSE(Train)    Time(sec)\n",
       "0    5   0.812049    0.658603    72.117384\n",
       "1   10   0.805715    0.596706   756.382538\n",
       "2   30   0.817185    0.491476  1358.085426\n",
       "3   50   0.821310    0.444733  1428.335245\n",
       "4   80   0.821851    0.409215  1526.109554\n",
       "5  100   0.822368    0.396922  1634.068032"
      ]
     },
     "metadata": {},
     "output_type": "display_data"
    }
   ],
   "source": [
    "res = {}\n",
    "KList = [5, 10, 30, 50, 80, 100] \n",
    "N = 5\n",
    "for K in KList:\n",
    "    time_start = time.clock()\n",
    "    P, Q = matrix_factorization(X_train.reset_index(), movies.MovieID.values, users.UserID.values, K, N)\n",
    "    ExecTime = time.clock() - time_start\n",
    "    \n",
    "    answer = np.zeros_like(X_valid.Rating.values)\n",
    "    for i, (uid, mid) in enumerate(X_valid[['UserID', 'MovieID']].values):\n",
    "        answer[i] = P[uid].dot(Q[mid])\n",
    "    error_valid = mean_squared_error(X_valid['Rating'].values, answer)\n",
    "    \n",
    "    answer = np.zeros_like(X_train.Rating.values)\n",
    "    for i, (uid, mid) in enumerate(X_train[['UserID', 'MovieID']].values):\n",
    "        answer[i] = P[uid].dot(Q[mid])\n",
    "    error_train = mean_squared_error(X_train['Rating'].values, answer)\n",
    "    res[K] = {'MSE(Train)': error_train, 'MSE(Test)': error_valid, 'Time(sec)': ExecTime}\n",
    "    \n",
    "res = pd.DataFrame(res).T.reset_index()\n",
    "res.columns = ['K', 'MSE(Test)', 'MSE(Train)', 'Time(sec)']\n",
    "print ('Latent factor')\n",
    "display(res)"
   ]
  },
  {
   "cell_type": "markdown",
   "metadata": {},
   "source": [
    "Видно, что с ростом числа латентных признаков, модель переобучается.\n",
    "\n",
    "Очевидным фактом также является увеличение алгоритмической сложности модели и объема используемой памяти."
   ]
  },
  {
   "cell_type": "markdown",
   "metadata": {},
   "source": [
    "Зафиксируем оптимальное значение $K = 10$. Увеличим число итераций до сходимости $N = 20$.\n",
    "\n",
    "Оценим работу на тестовой выборке."
   ]
  },
  {
   "cell_type": "code",
   "execution_count": 32,
   "metadata": {
    "collapsed": false
   },
   "outputs": [
    {
     "data": {
      "text/html": [
       "<div>\n",
       "<table border=\"1\" class=\"dataframe\">\n",
       "  <thead>\n",
       "    <tr style=\"text-align: right;\">\n",
       "      <th></th>\n",
       "      <th>MSE(Test)</th>\n",
       "      <th>Time(sec)</th>\n",
       "    </tr>\n",
       "  </thead>\n",
       "  <tbody>\n",
       "    <tr>\n",
       "      <th>Latent factor</th>\n",
       "      <td>0.798112</td>\n",
       "      <td>3769.790197</td>\n",
       "    </tr>\n",
       "  </tbody>\n",
       "</table>\n",
       "</div>"
      ],
      "text/plain": [
       "               MSE(Test)    Time(sec)\n",
       "Latent factor   0.798112  3769.790197"
      ]
     },
     "metadata": {},
     "output_type": "display_data"
    }
   ],
   "source": [
    "time_start = time.clock()\n",
    "K = 10\n",
    "N = 20\n",
    "P, Q = matrix_factorization(data_train.reset_index(), movies.MovieID.values, users.UserID.values, K, N)\n",
    "\n",
    "answer = np.zeros_like(data_test.Rating.values)\n",
    "for i, (uid, mid) in enumerate(data_test[['UserID', 'MovieID']].values):\n",
    "    answer[i] = P[uid].dot(Q[mid])\n",
    "    \n",
    "display(pd.DataFrame({'Latent factor':\n",
    "                               {'MSE(Test)': mean_squared_error(data_test['Rating'].values, answer),\n",
    "                                'Time(sec)': time.clock() - time_start}\n",
    "                      }).T)"
   ]
  },
  {
   "cell_type": "markdown",
   "metadata": {},
   "source": [
    "----"
   ]
  },
  {
   "cell_type": "markdown",
   "metadata": {},
   "source": [
    "## Выводы"
   ]
  },
  {
   "cell_type": "code",
   "execution_count": 17,
   "metadata": {
    "collapsed": false
   },
   "outputs": [
    {
     "data": {
      "text/html": [
       "<div>\n",
       "<table border=\"1\" class=\"dataframe\">\n",
       "  <thead>\n",
       "    <tr style=\"text-align: right;\">\n",
       "      <th></th>\n",
       "      <th>MSE(Test)</th>\n",
       "      <th>Time(sec)</th>\n",
       "    </tr>\n",
       "  </thead>\n",
       "  <tbody>\n",
       "    <tr>\n",
       "      <th>Content_based</th>\n",
       "      <td>0.969475</td>\n",
       "      <td>117.940782</td>\n",
       "    </tr>\n",
       "    <tr>\n",
       "      <th>Latent factor</th>\n",
       "      <td>0.798112</td>\n",
       "      <td>3769.790197</td>\n",
       "    </tr>\n",
       "    <tr>\n",
       "      <th>Neighborhood</th>\n",
       "      <td>1.756640</td>\n",
       "      <td>2400.000000</td>\n",
       "    </tr>\n",
       "  </tbody>\n",
       "</table>\n",
       "</div>"
      ],
      "text/plain": [
       "               MSE(Test)    Time(sec)\n",
       "Content_based   0.969475   117.940782\n",
       "Latent factor   0.798112  3769.790197\n",
       "Neighborhood    1.756640  2400.000000"
      ]
     },
     "execution_count": 17,
     "metadata": {},
     "output_type": "execute_result"
    }
   ],
   "source": [
    "pd.read_csv('results.csv', index_col=0)"
   ]
  },
  {
   "cell_type": "markdown",
   "metadata": {},
   "source": [
    "В данном исследовании были рассмотрены <b>контентные</b> и <b>коллаборативные</b> алгоритмы выработки рекомендаций.\n",
    "\n",
    "Самым лучшим с точки зрения качества оказался <b>Latent factor</b> подход. Самым быстрым --  <b>Content_based</b>.\n",
    "\n",
    "<b>Latent factor</b> является оптимизационным алгоритмом, поэтому более гибок с точки зрения оптимизирующего функционала."
   ]
  }
 ],
 "metadata": {
  "kernelspec": {
   "display_name": "Python 3",
   "language": "python",
   "name": "python3"
  },
  "language_info": {
   "codemirror_mode": {
    "name": "ipython",
    "version": 3
   },
   "file_extension": ".py",
   "mimetype": "text/x-python",
   "name": "python",
   "nbconvert_exporter": "python",
   "pygments_lexer": "ipython3",
   "version": "3.5.2"
  }
 },
 "nbformat": 4,
 "nbformat_minor": 0
}
