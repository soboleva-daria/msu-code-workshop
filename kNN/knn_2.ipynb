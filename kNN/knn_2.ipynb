{
 "cells": [
  {
   "cell_type": "markdown",
   "metadata": {},
   "source": [
    "Задание №2 (Часть 2)\n",
    "--\n",
    "Выполнила: Соболева Дарья \n",
    "--\n",
    "Студентка 317 группы ВМК МГУ\n",
    "--\n",
    "Версия Python: 3.5\n",
    "--"
   ]
  },
  {
   "cell_type": "code",
   "execution_count": 1,
   "metadata": {
    "collapsed": false
   },
   "outputs": [
    {
     "name": "stdout",
     "output_type": "stream",
     "text": [
      "Populating the interactive namespace from numpy and matplotlib\n"
     ]
    }
   ],
   "source": [
    "import time\n",
    "import numpy as np\n",
    "import pandas as pd\n",
    "from collections import Counter\n",
    "from sklearn.datasets import fetch_20newsgroups\n",
    "from scipy.sparse import csr_matrix\n",
    "from sklearn.metrics import confusion_matrix\n",
    "from sklearn.feature_extraction.text import TfidfTransformer\n",
    "\n",
    "from nearest_neighbors import KNN_classifier\n",
    "from cross_validation import CrossValidation, accuracy_score\n",
    "from plt_confusion_matrix import plot_confusion_matrix\n",
    "\n",
    "%pylab inline"
   ]
  },
  {
   "cell_type": "markdown",
   "metadata": {},
   "source": [
    "Загрузим детасет 20newgroups.\n",
    "\n",
    "Уберем все заголовки, подписи и цитаты."
   ]
  },
  {
   "cell_type": "code",
   "execution_count": 2,
   "metadata": {
    "collapsed": true
   },
   "outputs": [],
   "source": [
    "train = fetch_20newsgroups(subset='train', remove=('headers', 'footers', 'quotes'))"
   ]
  },
  {
   "cell_type": "code",
   "execution_count": 3,
   "metadata": {
    "collapsed": false
   },
   "outputs": [
    {
     "data": {
      "text/plain": [
       "11314"
      ]
     },
     "execution_count": 3,
     "metadata": {},
     "output_type": "execute_result"
    }
   ],
   "source": [
    "corpus_size = len(train.data)\n",
    "corpus_size"
   ]
  },
  {
   "cell_type": "markdown",
   "metadata": {},
   "source": [
    "Приведем все буквы в нижний регистр.\n",
    "Заменим символы, неявляющиеся буквами и цифрами на пробелы."
   ]
  },
  {
   "cell_type": "code",
   "execution_count": 3,
   "metadata": {
    "collapsed": false
   },
   "outputs": [],
   "source": [
    "new_train = []\n",
    "convert = lambda x: x if str.isalnum(x) else ' '\n",
    "for doc in train.data:\n",
    "    new_train.append(''.join([convert(ch) for ch in str.lower(doc)]))"
   ]
  },
  {
   "cell_type": "markdown",
   "metadata": {},
   "source": [
    "Разобъем каждый документ на термы по пробельным символам"
   ]
  },
  {
   "cell_type": "code",
   "execution_count": 4,
   "metadata": {
    "collapsed": false
   },
   "outputs": [],
   "source": [
    "tokens_train = []\n",
    "for doc in new_train:\n",
    "    tokens_train.append(doc.split())"
   ]
  },
  {
   "cell_type": "markdown",
   "metadata": {},
   "source": [
    "Преобразуем детасет в разреженную матрицу."
   ]
  },
  {
   "cell_type": "code",
   "execution_count": 5,
   "metadata": {
    "collapsed": false
   },
   "outputs": [],
   "source": [
    "indptr = [0]\n",
    "indices = []\n",
    "data = []\n",
    "\n",
    "tokens = {}\n",
    "token_n = 0\n",
    "\n",
    "for i, doc_t in enumerate(tokens_train):\n",
    "    counter = Counter(doc_t)\n",
    "    for w, count in counter.items():\n",
    "        if w not in tokens:\n",
    "            tokens[w] = token_n \n",
    "            token_n += 1\n",
    "            \n",
    "        indices.append(tokens[w])\n",
    "        data.append(count)\n",
    "        \n",
    "    indptr.append(indptr[-1] + len(counter))  \n",
    "sparse_train = csr_matrix((np.array(data), np.array(indices), np.array(indptr)),\n",
    "                           shape=(len(tokens_train), len(tokens)))"
   ]
  },
  {
   "cell_type": "code",
   "execution_count": 7,
   "metadata": {
    "collapsed": false
   },
   "outputs": [
    {
     "data": {
      "text/plain": [
       "98749"
      ]
     },
     "execution_count": 7,
     "metadata": {},
     "output_type": "execute_result"
    }
   ],
   "source": [
    "sparse_train.shape[1]"
   ]
  },
  {
   "cell_type": "markdown",
   "metadata": {},
   "source": [
    "Оценим по кросс-валидации с 3 фолдами долю правильных ответов  и скорость метода k ближайших соседей в зависимости от:\n",
    "* параметра k (число ближайших соседей). Диапазон изменения: [1, 10]\n",
    "* используемой метрики, по которой считается расстояние между объектами.\n",
    "Рассматриваемые метрики: {'euclidean', 'cosine'}.\n",
    "    \n",
    "* используется ли взвешенный метод k ближайших соседей\n",
    "\n",
    "Покажем на графиках зависимость accuracy (среднее по фолдам) от параметра k, для каждой рассматриваемой метрики.\n",
    "\n",
    "Сравнительный анализ моделей с разными метриками представлен в виде таблицы (оцениваем время работы и долю правильных ответов)."
   ]
  },
  {
   "cell_type": "markdown",
   "metadata": {},
   "source": [
    "Проведем оценку параметров на модели 'brute' (деревья не работают с разреженными матрицами, а 'my_own' будет давать похожие результаты).\n",
    "\n",
    "Это можно объяснить тем, что объекты, представленные в разреженной матрице, сильно удалены друг от друга.\n",
    "Кроме того в нашей задаче признаковое пространство имеет очень высокую размерность, а значит,\n",
    "не имеет смысла использовать методы 'kd_tree' и 'ball_tree'.\n",
    "Они просто перестают быть эффективными (\"Проклятие размерности\")"
   ]
  },
  {
   "cell_type": "code",
   "execution_count": 6,
   "metadata": {
    "collapsed": false
   },
   "outputs": [
    {
     "data": {
      "image/png": "[encoded data removed]",
      "text/plain": [
       "<matplotlib.figure.Figure at 0x7fb8a418df98>"
      ]
     },
     "metadata": {},
     "output_type": "display_data"
    }
   ],
   "source": [
    "scores = {}\n",
    "metrics = {\"euclidean\", \"cosine\"}\n",
    "k_list = list(range(1,13))\n",
    "\n",
    "# Хорошим тоном является перемешивание выборки перед использованием кросс-валидации.\n",
    "c_v = CrossValidation(shuffle=True)\n",
    "\n",
    "time_list = []\n",
    "best_res = []\n",
    "f, (ax1, ax2) = subplots(1, 2, sharey=True, figsize = (10,4))\n",
    "\n",
    "for metric, ax in zip (metrics, [ax1, ax2]):\n",
    "    ax.set_title('kNN, {} metric, CV'.format(metric), fontsize=18)\n",
    "    ax.set_xlim([1, len(k_list)])\n",
    "    ax.set_xlabel(\"k\", fontsize = 18)\n",
    "    ax.set_ylabel('Accuracy', fontsize = 18)\n",
    "    #ax.text(1, 2, '{} metric'.format(metric), fontsize=18, color = 'magenta')\n",
    "    \n",
    "    res = c_v.knn_cross_val_score(sparse_train, train.target, k_list=k_list, metric=metric)\n",
    "    \n",
    "    ax.plot(k_list, [np.mean(value) for key, value in res.items()], color='magenta', lw=3)"
   ]
  },
  {
   "cell_type": "markdown",
   "metadata": {},
   "source": [
    "В данном эксперименте оцениваемым параметром выступало число ближайших соседей (k).\n",
    "\n",
    "Анализируя полученные графики приходим к выводу, что необходимо рассмотреть другое признаковое пространство."
   ]
  },
  {
   "cell_type": "markdown",
   "metadata": {},
   "source": [
    "Произведем tf-idf преобразование детасета"
   ]
  },
  {
   "cell_type": "code",
   "execution_count": 6,
   "metadata": {
    "collapsed": false
   },
   "outputs": [],
   "source": [
    "vectorizer = TfidfTransformer()\n",
    "vectors_train = vectorizer.fit_transform(sparse_train)"
   ]
  },
  {
   "cell_type": "code",
   "execution_count": 9,
   "metadata": {
    "collapsed": false
   },
   "outputs": [
    {
     "data": {
      "image/png": "[encoded data removed]",
      "text/plain": [
       "<matplotlib.figure.Figure at 0x7f0be4f27828>"
      ]
     },
     "metadata": {},
     "output_type": "display_data"
    }
   ],
   "source": [
    "# Проведем оценку параметров на модели 'brute' (деревья не работают с разреженными матрицами)\n",
    "scores = {}\n",
    "metrics = {\"euclidean\", \"cosine\"}\n",
    "k_list = list(range(1,11))\n",
    "\n",
    "# Хорошим тоном является перемешивание выборки перед использованием кросс-валидации.\n",
    "c_v = CrossValidation(shuffle=True)\n",
    "\n",
    "time_list = []\n",
    "best_res = []\n",
    "f, (ax1, ax2) = subplots(1, 2, sharey=True, figsize = (10,4))\n",
    "\n",
    "for metric, ax in zip (metrics, [ax1, ax2]):\n",
    "    ax.set_title('kNN, {} metric, CV'.format(metric), fontsize=18)\n",
    "    ax.set_xlim([1, len(k_list)])\n",
    "    ax.set_xlabel(\"k\", fontsize = 18)\n",
    "    ax.set_ylabel('Accuracy', fontsize = 18)\n",
    "    #ax.text(1, 2, '{} metric'.format(metric), fontsize=18, color = 'magenta')\n",
    "    \n",
    "    res = c_v.knn_cross_val_score(vectors_train, train.target, k_list=k_list, metric=metric)\n",
    "    \n",
    "    ax.plot(k_list, [np.mean(value) for key, value in res.items()], color='magenta', lw=3)"
   ]
  },
  {
   "cell_type": "markdown",
   "metadata": {},
   "source": [
    "Модель с косинусной метрикой справилась гораздо лучше модели с евклидовой метрикой. \n",
    "Действительно, косинусное расстояние является более адекватной оценкой качества в данной задаче.\n",
    "\n",
    "Для модели с косинусной метрикой наблюдается два оптиума k=1 и k=3.\n",
    "\n",
    "Модель с k=3 более устойчива к шуму, а значит, должна дать более высокое качество на тестовой выборке.\n",
    "Соответствующая оценка будет проведена позже.\n",
    "\n",
    "Хотелось бы провести еще больше исследований и оценить валидационную ошибку на обучении. А также рассмотреть метрику Минковского, \n",
    "являющейся очень подходящей для пространств высокой размерности.\n"
   ]
  },
  {
   "cell_type": "code",
   "execution_count": 8,
   "metadata": {
    "collapsed": false
   },
   "outputs": [
    {
     "data": {
      "text/html": [
       "<div>\n",
       "<table border=\"1\" class=\"dataframe\">\n",
       "  <thead>\n",
       "    <tr style=\"text-align: right;\">\n",
       "      <th></th>\n",
       "      <th>Accuracy</th>\n",
       "      <th>Prediction time</th>\n",
       "    </tr>\n",
       "  </thead>\n",
       "  <tbody>\n",
       "    <tr>\n",
       "      <th>kNN:\"brute_cosine\"</th>\n",
       "      <td>0.560370</td>\n",
       "      <td>6.600936</td>\n",
       "    </tr>\n",
       "    <tr>\n",
       "      <th>kNN:\"brute_euclidean\"</th>\n",
       "      <td>0.117995</td>\n",
       "      <td>6.783436</td>\n",
       "    </tr>\n",
       "  </tbody>\n",
       "</table>\n",
       "</div>"
      ],
      "text/plain": [
       "                       Accuracy  Prediction time\n",
       "kNN:\"brute_cosine\"     0.560370         6.600936\n",
       "kNN:\"brute_euclidean\"  0.117995         6.783436"
      ]
     },
     "execution_count": 8,
     "metadata": {},
     "output_type": "execute_result"
    }
   ],
   "source": [
    "c_v = CrossValidation(shuffle=True)\n",
    "k = 3\n",
    "\n",
    "start = time.clock()\n",
    "res1 = np.mean(\n",
    "    c_v.knn_cross_val_score(vectors_train, train.target, metric='euclidean')[k])\n",
    "time1 = time.clock() - start\n",
    "\n",
    "start = time.clock()\n",
    "res2 = np.mean(\n",
    "    c_v.knn_cross_val_score(vectors_train, train.target, metric='cosine')[k])\n",
    "time2 = time.clock() - start\n",
    "\n",
    "scores = {\n",
    "    'kNN:\"brute_euclidean\"':{\"Accuracy\":res1, \"Prediction time\":time1 },\n",
    "    'kNN:\"brute_cosine\"':{\"Accuracy\": res2, \"Prediction time\":time2}\n",
    "}\n",
    "pd.DataFrame(scores).T"
   ]
  },
  {
   "cell_type": "markdown",
   "metadata": {},
   "source": [
    "Лучшей является косинусная метрика."
   ]
  },
  {
   "cell_type": "markdown",
   "metadata": {},
   "source": [
    "Сравним теперь взвешенный метод с методом без весов. Оценку моделей будем проводить на кросс-валидации (при тех же фолдах и параметрах)."
   ]
  },
  {
   "cell_type": "code",
   "execution_count": 7,
   "metadata": {
    "collapsed": false
   },
   "outputs": [
    {
     "data": {
      "text/html": [
       "<div>\n",
       "<table border=\"1\" class=\"dataframe\">\n",
       "  <thead>\n",
       "    <tr style=\"text-align: right;\">\n",
       "      <th></th>\n",
       "      <th>Accuracy</th>\n",
       "    </tr>\n",
       "  </thead>\n",
       "  <tbody>\n",
       "    <tr>\n",
       "      <th>kNN:\"brute\"</th>\n",
       "      <td>0.549672</td>\n",
       "    </tr>\n",
       "    <tr>\n",
       "      <th>weighted kNN:\"brute\"</th>\n",
       "      <td>0.572742</td>\n",
       "    </tr>\n",
       "  </tbody>\n",
       "</table>\n",
       "</div>"
      ],
      "text/plain": [
       "                      Accuracy\n",
       "kNN:\"brute\"           0.549672\n",
       "weighted kNN:\"brute\"  0.572742"
      ]
     },
     "execution_count": 7,
     "metadata": {},
     "output_type": "execute_result"
    }
   ],
   "source": [
    "# Возьмем за основу модель 'brute' с косинусной метрикой. (победитель предыдущих испытаний)\n",
    "scores = {}\n",
    "c_v = CrossValidation(shuffle=True)\n",
    "k = 7\n",
    "scores = {\n",
    "    'weighted kNN:\"brute\"':{\"Accuracy\": np.mean(c_v.knn_cross_val_score(vectors_train, train.target, k_list=[k],\n",
    "                                                                         metric='cosine', weights=True)[k])},\n",
    "    'kNN:\"brute\"':{\"Accuracy\": np.mean(c_v.knn_cross_val_score(vectors_train, train.target,\n",
    "                                                               k_list = [k], metric='cosine')[k])}\n",
    "}\n",
    "pd.DataFrame(scores).T"
   ]
  },
  {
   "cell_type": "markdown",
   "metadata": {},
   "source": [
    "Метод, использующий взвешенное голосование оказался лучшим."
   ]
  },
  {
   "cell_type": "markdown",
   "metadata": {},
   "source": [
    "---"
   ]
  },
  {
   "cell_type": "markdown",
   "metadata": {},
   "source": [
    "Загрузим теперь тестовую выборку и проведем аналогичные преобразования.\n",
    "Рассмотрим только те признаки, которые есть в обучающей выборке."
   ]
  },
  {
   "cell_type": "code",
   "execution_count": 8,
   "metadata": {
    "collapsed": false
   },
   "outputs": [],
   "source": [
    "test = fetch_20newsgroups(subset='test', remove=('headers', 'footers', 'quotes'))\n",
    "\n",
    "new_test = []\n",
    "convert = lambda x: x if str.isalnum(x) else ' '\n",
    "for doc in test.data:\n",
    "    new_test.append(''.join([convert(ch) for ch in str.lower(doc)]))\n",
    "    \n",
    "tokens_test = []\n",
    "for doc in new_test:\n",
    "    tokens_test.append(doc.split())\n",
    "    \n",
    "indptr = [0]\n",
    "indices = []\n",
    "data = []\n",
    "\n",
    "for i, doc in enumerate(tokens_test):\n",
    "    counter = Counter(doc)\n",
    "    skip = 0\n",
    "    for w, count in counter.items():\n",
    "        if w not in tokens:\n",
    "            skip += 1\n",
    "            continue\n",
    "    \n",
    "        indices.append(tokens[w])\n",
    "        data.append(count)\n",
    "        \n",
    "    indptr.append(indptr[-1] + len(counter) - skip)\n",
    "    \n",
    "sparse_test = csr_matrix((np.array(data), np.array(indices), np.array(indptr)),\n",
    "                         shape=(len(tokens_test), len(tokens)))\n",
    "vectors_test = vectorizer.fit_transform(sparse_test)"
   ]
  },
  {
   "cell_type": "markdown",
   "metadata": {},
   "source": [
    "Оценим качество на обучающей и тестовой выборках лучшего алгоритма.\n",
    "\n",
    "Сравним также его с моделью с k=1."
   ]
  },
  {
   "cell_type": "code",
   "execution_count": 13,
   "metadata": {
    "collapsed": false
   },
   "outputs": [
    {
     "data": {
      "text/html": [
       "<div>\n",
       "<table border=\"1\" class=\"dataframe\">\n",
       "  <thead>\n",
       "    <tr style=\"text-align: right;\">\n",
       "      <th></th>\n",
       "      <th>Accuracy_Test:</th>\n",
       "      <th>Accuracy_Train:</th>\n",
       "    </tr>\n",
       "  </thead>\n",
       "  <tbody>\n",
       "    <tr>\n",
       "      <th>brute_cosine_1</th>\n",
       "      <td>0.500929</td>\n",
       "      <td>0.974810</td>\n",
       "    </tr>\n",
       "    <tr>\n",
       "      <th>brute_cosine_3</th>\n",
       "      <td>0.510356</td>\n",
       "      <td>0.973838</td>\n",
       "    </tr>\n",
       "  </tbody>\n",
       "</table>\n",
       "</div>"
      ],
      "text/plain": [
       "                Accuracy_Test:  Accuracy_Train:\n",
       "brute_cosine_1        0.500929         0.974810\n",
       "brute_cosine_3        0.510356         0.973838"
      ]
     },
     "execution_count": 13,
     "metadata": {},
     "output_type": "execute_result"
    }
   ],
   "source": [
    "scores = {}\n",
    "knn = KNN_classifier(\n",
    "        k=1,\n",
    "        metric='cosine',\n",
    "        weights=True\n",
    "    ).fit(vectors_train, train.target)\n",
    "\n",
    "y_pred_test = knn.predict(vectors_test)\n",
    "y_pred_train = knn.predict(vectors_train)\n",
    "scores['brute_cosine_1'] = {\"Accuracy_Test:\": accuracy_score(test.target, y_pred_test),\n",
    "                            \"Accuracy_Train:\": accuracy_score(train.target,y_pred_train )}\n",
    "\n",
    "knn = KNN_classifier(\n",
    "        k=3,\n",
    "        metric='cosine',\n",
    "        weights=True\n",
    "    ).fit(vectors_train, train.target)\n",
    "\n",
    "y_pred_test = knn.predict(vectors_test)\n",
    "y_pred_train = knn.predict(vectors_train)\n",
    "scores['brute_cosine_3'] = {\"Accuracy_Test:\": accuracy_score(test.target, y_pred_test),\n",
    "                            \"Accuracy_Train:\": accuracy_score(train.target, y_pred_train )}\n",
    "pd.DataFrame(scores).T"
   ]
  },
  {
   "cell_type": "markdown",
   "metadata": {},
   "source": [
    "Сравнивая качество на тестовой выборке с качеством на обучении приходим к выводу, что наша модель сильно переобучена.\n",
    "Модель с k=3 лучше, но по-прежнему обладает плохой обобщающей способностью.\n",
    "\n",
    "Качество можно улучшить, поработав с признаковым пространством (явно видна проблема \"Проклятие размерности\"),\n",
    "а также рассмотрев другую метрику (например, метрику Минковского).\n",
    "\n",
    "\n",
    "Вернемся к нашей модели. Для начала, проанализируем объекты, на которых классифакатор совершил ошибку."
   ]
  },
  {
   "cell_type": "markdown",
   "metadata": {},
   "source": [
    "Итоговый алгоритм"
   ]
  },
  {
   "cell_type": "code",
   "execution_count": 23,
   "metadata": {
    "collapsed": true
   },
   "outputs": [],
   "source": [
    "knn = KNN_classifier(\n",
    "        k=3,\n",
    "        metric='cosine',\n",
    "        weights=True\n",
    "    ).fit(vectors_train, train.target)\n",
    "\n",
    "y_pred = knn.predict(vectors_test)"
   ]
  },
  {
   "cell_type": "code",
   "execution_count": 59,
   "metadata": {
    "collapsed": false
   },
   "outputs": [],
   "source": [
    "# Выберем 4 случайных обьекта, на которых была допущена ошибка\n",
    "n_samples = 4\n",
    "idxs = np.random.choice(np.nonzero(test.target!=y_pred)[0], n_samples, replace=False)"
   ]
  },
  {
   "cell_type": "code",
   "execution_count": 60,
   "metadata": {
    "collapsed": false
   },
   "outputs": [
    {
     "data": {
      "text/html": [
       "<div>\n",
       "<table border=\"1\" class=\"dataframe\">\n",
       "  <thead>\n",
       "    <tr style=\"text-align: right;\">\n",
       "      <th></th>\n",
       "      <th>Actual</th>\n",
       "      <th>Predicted:</th>\n",
       "    </tr>\n",
       "  </thead>\n",
       "  <tbody>\n",
       "    <tr>\n",
       "      <th>0_object</th>\n",
       "      <td>13</td>\n",
       "      <td>17</td>\n",
       "    </tr>\n",
       "    <tr>\n",
       "      <th>1_object</th>\n",
       "      <td>16</td>\n",
       "      <td>17</td>\n",
       "    </tr>\n",
       "    <tr>\n",
       "      <th>2_object</th>\n",
       "      <td>4</td>\n",
       "      <td>2</td>\n",
       "    </tr>\n",
       "    <tr>\n",
       "      <th>3_object</th>\n",
       "      <td>18</td>\n",
       "      <td>12</td>\n",
       "    </tr>\n",
       "  </tbody>\n",
       "</table>\n",
       "</div>"
      ],
      "text/plain": [
       "          Actual  Predicted:\n",
       "0_object      13          17\n",
       "1_object      16          17\n",
       "2_object       4           2\n",
       "3_object      18          12"
      ]
     },
     "execution_count": 60,
     "metadata": {},
     "output_type": "execute_result"
    }
   ],
   "source": [
    "ans = {}\n",
    "for i in range(n_samples):\n",
    "    ans['{}_object'.format(i)] = {\"Predicted:\": y_pred[idxs[i]],\n",
    "                                  \"Actual\" : test.target[idxs[i]] }\n",
    "pd.DataFrame(ans).T"
   ]
  },
  {
   "cell_type": "code",
   "execution_count": 63,
   "metadata": {
    "collapsed": false
   },
   "outputs": [
    {
     "data": {
      "image/png": "[encoded data removed]",
      "text/plain": [
       "<matplotlib.figure.Figure at 0x7f4e45bf6208>"
      ]
     },
     "metadata": {},
     "output_type": "display_data"
    }
   ],
   "source": [
    "# Рассмотрим 100 первых признака у каждого из объектов\n",
    "figure(figsize = (20,8))\n",
    "spy(vectors_test[idxs][:, :100])\n",
    "show()"
   ]
  },
  {
   "cell_type": "markdown",
   "metadata": {},
   "source": [
    "Первый  и Второй объекты действительно похожи, однако принадлежат разным классам.\n",
    "\n",
    "Косинусная метрика является хорошей метрикой качества, однако, пока не решена проблема с \"Проклятием размерности\",\n",
    "качество будет плохим."
   ]
  },
  {
   "cell_type": "markdown",
   "metadata": {},
   "source": [
    "Осталось проанализировать матрицу ошибок"
   ]
  },
  {
   "cell_type": "code",
   "execution_count": 64,
   "metadata": {
    "collapsed": false
   },
   "outputs": [
    {
     "name": "stdout",
     "output_type": "stream",
     "text": [
      "Confusion matrix, without normalization\n"
     ]
    },
    {
     "name": "stderr",
     "output_type": "stream",
     "text": [
      "/root/miniconda/envs/jupyterhub_py3/lib/python3.4/site-packages/matplotlib/collections.py:590: FutureWarning: elementwise comparison failed; returning scalar instead, but in the future will perform elementwise comparison\n",
      "  if self._edgecolors == str('face'):\n"
     ]
    },
    {
     "data": {
      "image/png": "[encoded data removed]",
      "text/plain": [
       "<matplotlib.figure.Figure at 0x7f4ea6a6e160>"
      ]
     },
     "metadata": {},
     "output_type": "display_data"
    }
   ],
   "source": [
    "cnf_matrix = confusion_matrix(test.target, y_pred)\n",
    "np.set_printoptions(precision=2)\n",
    "figure(figsize = (8,8))\n",
    "plot_confusion_matrix(cnf_matrix, classes=np.arange(len(set(train.target))),\n",
    "                      title='Confusion matrix')\n",
    "\n",
    "\n",
    "show()"
   ]
  },
  {
   "cell_type": "markdown",
   "metadata": {},
   "source": [
    "Аналогично тому, как мы оценивали работу классифакатора на детасете MNIST:\n",
    "\n",
    "Выберем произвольный класс, на котором посчитаем точность, полноту и F-меру.\n",
    "\n",
    "Рассмотрим 0 класс.\n"
   ]
  },
  {
   "cell_type": "code",
   "execution_count": 70,
   "metadata": {
    "collapsed": false
   },
   "outputs": [
    {
     "data": {
      "text/html": [
       "<div>\n",
       "<table border=\"1\" class=\"dataframe\">\n",
       "  <thead>\n",
       "    <tr style=\"text-align: right;\">\n",
       "      <th></th>\n",
       "      <th>F_5cls:</th>\n",
       "      <th>Presicion_5cls:</th>\n",
       "      <th>Recall_5cls:</th>\n",
       "    </tr>\n",
       "  </thead>\n",
       "  <tbody>\n",
       "    <tr>\n",
       "      <th>Final_model</th>\n",
       "      <td>0.416107</td>\n",
       "      <td>0.36385</td>\n",
       "      <td>0.485893</td>\n",
       "    </tr>\n",
       "  </tbody>\n",
       "</table>\n",
       "</div>"
      ],
      "text/plain": [
       "              F_5cls:  Presicion_5cls:  Recall_5cls:\n",
       "Final_model  0.416107          0.36385      0.485893"
      ]
     },
     "execution_count": 70,
     "metadata": {},
     "output_type": "execute_result"
    }
   ],
   "source": [
    "Presicion_0cls = 0.36384976525821594\n",
    "Recall_0cls = 0.48589341692789967     \n",
    "F_0cls = 2*Presicion_0cls*Recall_0cls/(Presicion_0cls + Recall_0cls)\n",
    "scores = {\n",
    "    'Final_model':{\"Presicion_5cls:\": Presicion_0cls,\n",
    "                   \"Recall_5cls:\": Recall_0cls,\n",
    "                   \"F_5cls:\": F_0cls\n",
    "    }\n",
    "}\n",
    "pd.DataFrame(scores).T"
   ]
  },
  {
   "cell_type": "markdown",
   "metadata": {},
   "source": [
    "Как видно, модель имеет низкие показатели по всем рассмотренным метрикам качества, что было предсказуемо с самого начала.\n",
    "\n",
    "Естественно в данной задаче необходимо попробовать другое признаковое пространство, а также другую метрику качества."
   ]
  },
  {
   "cell_type": "markdown",
   "metadata": {},
   "source": [
    "----"
   ]
  },
  {
   "cell_type": "markdown",
   "metadata": {},
   "source": [
    "Напоследок, хотелось бы отметить, что мы можем обучать при работе с метрическими классификаторами (в частности kNN)"
   ]
  },
  {
   "cell_type": "markdown",
   "metadata": {},
   "source": [
    "При работе с метрическими классификаторами можно обучать:\n",
    "* число ближайших соседей\n",
    "* веса объектов\n",
    "* набор эталонов (не было рассмотрено)\n",
    "* метрику (Минковского не была рассмотрена)\n",
    "\n",
    "Однако важно понимать, что не любая модель годится под любую задачу.\n",
    "Правильно подобранная модель должна показывать хорошие результаты прямо \"из коробки\":)\n",
    "    "
   ]
  },
  {
   "cell_type": "markdown",
   "metadata": {},
   "source": [
    "Многие предложенные мною методы не были рассмотрены в данной работе в виду нехватки времени. Однако полученные результаты \n",
    "являются подтверждением возможного улучшения работы модели в случае их использования.\n",
    "\n",
    "При использовании kNN возможно огромное число эвристик, как например, использование метода окна Парзена, подробно описанного в\n",
    "статье Константина Вячеславовича Воронцова. Метод хорош тем, что учитывает ширину окна, в которое попадают ближайшие соседи.\n",
    "\n",
    "Также другой знаменитой эвристикой является метод потенциальных функций, основанный на наших знаниях о симметричности функции расстояния.\n",
    "\n",
    "В случае наличия в выборке большого количества выбросов или шумовых объектов необходимо проводить отбор эталонных объектов (алгоритм STOLP).\n",
    "\n",
    "А также последняя задача показала, что важным этапом является понижение размерности (Метод главных компонент, жадное добавление признаков)."
   ]
  },
  {
   "cell_type": "markdown",
   "metadata": {},
   "source": [
    "В kNN практически отсутствуют параметры оптимизации, поэтому он показывает не самые высокие результаты, однако обладает\n",
    "и рядом преимуществ:\n",
    "* Простота реализации\n",
    "* Интерпретируемость решений (case-based reasoning)\n",
    "\n",
    "Из недостатков:\n",
    "* Неустойчивость к выбросам\n",
    "* Отсуствие настраиваемых параметров (как следствие низкое качество)\n",
    "* Некоторые алгоритмы метода kNN хранят всю выборку целиком"
   ]
  }
 ],
 "metadata": {
  "kernelspec": {
   "display_name": "Python 3",
   "language": "python",
   "name": "python3"
  },
  "language_info": {
   "codemirror_mode": {
    "name": "ipython",
    "version": 3
   },
   "file_extension": ".py",
   "mimetype": "text/x-python",
   "name": "python",
   "nbconvert_exporter": "python",
   "pygments_lexer": "ipython3",
   "version": "3.5.2"
  }
 },
 "nbformat": 4,
 "nbformat_minor": 0
}
